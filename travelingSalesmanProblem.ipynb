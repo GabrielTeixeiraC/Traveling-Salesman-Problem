{
 "cells": [
  {
   "cell_type": "code",
   "execution_count": null,
   "metadata": {},
   "outputs": [],
   "source": [
    "import matplotlib.pyplot as plt\n",
    "import networkx as nx\n",
    "import numpy as np\n",
    "import math"
   ]
  },
  {
   "attachments": {},
   "cell_type": "markdown",
   "metadata": {},
   "source": [
    "## Algorithms"
   ]
  },
  {
   "cell_type": "markdown",
   "metadata": {},
   "source": [
    "### Branch and Bound  "
   ]
  },
  {
   "cell_type": "code",
   "execution_count": null,
   "metadata": {},
   "outputs": [],
   "source": [
    "class Node:\n",
    "    def __init__(self, bound, boundEdges, cost, solution):\n",
    "        self.bound = bound\n",
    "        self.boundEdges = boundEdges\n",
    "        self.cost = cost\n",
    "        self.solution = solution\n",
    "    \n",
    "    def __lt__(self, other):\n",
    "        if len(self.solution) == len(other.solution):\n",
    "            return self.bound < other.bound\n",
    "        return len(self.solution) > len(other.solution)\n",
    "    def __repr__(self) -> str:\n",
    "        return f\"Node({self.bound}, {self.boundEdges}, {self.cost}, {self.solution})\"\n",
    "\n",
    "def findTwoMinimalEdges(list):\n",
    "    min1 = np.inf\n",
    "    min2 = np.inf\n",
    "    for j in list:\n",
    "        if list[j]['weight'] < min1:\n",
    "            min2 = min1\n",
    "            min1 = list[j]['weight']\n",
    "        elif list[j]['weight'] < min2:\n",
    "            min2 = list[j]['weight']\n",
    "    return min1, min2\n",
    "\n",
    "def findInitialBound(A):\n",
    "    bound = 0\n",
    "    initialBoundEdges = np.zeros((A.number_of_nodes(), 2), dtype=list)\n",
    "    for i in range(A.number_of_nodes()):\n",
    "        min1, min2 = findTwoMinimalEdges(A[i])\n",
    "        initialBoundEdges[i][0] = min1\n",
    "        initialBoundEdges[i][1] = min2\n",
    "        bound += min1 + min2\n",
    "    return bound / 2, initialBoundEdges\n",
    "\n",
    "def findBound(A, solution, boundEdges, bound):\n",
    "    changedEdges = np.zeros(A.number_of_nodes(), dtype=int)\n",
    "    newEdges = np.array(boundEdges)\n",
    "    edgeWeight = A[solution[-2]][solution[-1]]['weight']\n",
    "    sum = bound * 2\n",
    "    if newEdges[solution[-2]][0] != edgeWeight:\n",
    "        if changedEdges[solution[-2]] == 0:\n",
    "            sum -= newEdges[solution[-2]][1]\n",
    "            sum += edgeWeight\n",
    "        else:\n",
    "            sum -= newEdges[solution[-2]][0]\n",
    "            sum += edgeWeight\n",
    "        changedEdges[solution[-2]] += 1\n",
    "    if newEdges[solution[-1]][0] != edgeWeight:\n",
    "        if changedEdges[solution[-1]] == 0:\n",
    "            sum -= newEdges[solution[-1]][1]\n",
    "            sum += edgeWeight\n",
    "        else:\n",
    "            sum -= newEdges[solution[-1]][0]\n",
    "            sum += edgeWeight\n",
    "        changedEdges[solution[-1]] += 1\n",
    "    return sum / 2, newEdges"
   ]
  },
  {
   "cell_type": "code",
   "execution_count": null,
   "metadata": {},
   "outputs": [],
   "source": [
    "from heapq import heappush, heappop\n",
    "\n",
    "def branchAndBoundTSP(A):\n",
    "    initialBound, initialBoundEdges = findInitialBound(A)\n",
    "    root = Node(initialBound, initialBoundEdges, 0, [0])\n",
    "    heap = []\n",
    "    heappush(heap, root)\n",
    "    best = np.inf\n",
    "    solution = []\n",
    "    nodeCount = 0\n",
    "    while heap:\n",
    "        node = heappop(heap)\n",
    "        nodeCount += 1\n",
    "        level = len(node.solution)\n",
    "        if level > A.number_of_nodes():\n",
    "            if best > node.cost:\n",
    "                best = node.cost\n",
    "                solution = node.solution\n",
    "        else:\n",
    "            if node.bound < best:\n",
    "                if level < A.number_of_nodes() - 2:\n",
    "                    for k in range(1, A.number_of_nodes()):\n",
    "                        if k == node.solution[-1] or k == 0:\n",
    "                            continue\n",
    "                        edgeWeight = A[node.solution[-1]][k]['weight']\n",
    "                        newBound, newEdges = findBound(A, node.solution + [k], node.boundEdges, node.bound) \n",
    "                        if k not in node.solution and newBound < best:\n",
    "                            newNode = Node(newBound, newEdges, node.cost + edgeWeight, node.solution + [k])\n",
    "                            if k == 2:\n",
    "                                if 1 not in node.solution:  \n",
    "                                    continue \n",
    "                            heappush(heap, newNode)\n",
    "                else:\n",
    "                    for k in range(1, A.number_of_nodes()):\n",
    "                        if k == node.solution[-1] or k == 0:\n",
    "                            continue\n",
    "                        lastNode = 0\n",
    "                        for i in range(1, A.number_of_nodes()):\n",
    "                            if i not in node.solution + [k] and k != i:\n",
    "                                lastNode = i\n",
    "                                break\n",
    "                        edgeWeight = A[node.solution[-1]][k]['weight']\n",
    "                        nextEdgeWeight = A[k][lastNode]['weight']\n",
    "                        lastEdgeWeight = A[lastNode][0]['weight']\n",
    "                        cost = node.cost + edgeWeight + nextEdgeWeight + lastEdgeWeight\n",
    "                        if k not in node.solution and cost < best:\n",
    "                            newNode = Node(cost, [], cost, node.solution + [k, lastNode, 0])\n",
    "                            heappush(heap, newNode)\n",
    "    return best, solution"
   ]
  },
  {
   "cell_type": "markdown",
   "metadata": {},
   "source": [
    "### Twice Around The Tree"
   ]
  },
  {
   "cell_type": "code",
   "execution_count": null,
   "metadata": {},
   "outputs": [],
   "source": [
    "def findPathWeight(A, path):\n",
    "    weight = 0\n",
    "    for i in range(len(path) - 1):\n",
    "        weight += A[path[i]][path[i + 1]]['weight']\n",
    "    return weight\n",
    "\n",
    "def twiceAroundTheTreeTSP(A):\n",
    "    MST = nx.minimum_spanning_tree(A)\n",
    "    path = nx.dfs_preorder_nodes(MST, 0)\n",
    "    path = list(path)\n",
    "    path.append(path[0])\n",
    "    weight = findPathWeight(A, path)\n",
    "    return weight, path"
   ]
  },
  {
   "cell_type": "markdown",
   "metadata": {},
   "source": [
    "### Christofides"
   ]
  },
  {
   "cell_type": "code",
   "execution_count": null,
   "metadata": {},
   "outputs": [],
   "source": [
    "def findShortcutPath(A):\n",
    "    path = list(nx.eulerian_circuit(A, 0))\n",
    "    path = [x[0] for x in path]\n",
    "\n",
    "    # remove duplicates\n",
    "    shortcutPath = list(dict.fromkeys(path))\n",
    "    \n",
    "    return shortcutPath + [shortcutPath[0]]\n",
    "\n",
    "def christofidesTSP(A):\n",
    "    MST = nx.minimum_spanning_tree(A)\n",
    "    degrees = nx.degree(MST)\n",
    "    oddNodes = [x[0] for x in degrees if degrees[x[0]] % 2 == 1]\n",
    "    oddNodesSubgraph = nx.subgraph(A, oddNodes)\n",
    "    matching = list(nx.min_weight_matching(oddNodesSubgraph, maxcardinality=True))\n",
    "\n",
    "    MSTMultiGraph = nx.MultiGraph(MST)\n",
    "    for i in range(len(matching)):\n",
    "        node1 = matching[i][0]\n",
    "        node2 = matching[i][1]\n",
    "        MSTMultiGraph.add_edge(node1, node2, weight=A[node1][node2]['weight'])\n",
    "\n",
    "    path = findShortcutPath(MSTMultiGraph)\n",
    "    weight = findPathWeight(A, path)\n",
    "\n",
    "    return weight, path"
   ]
  },
  {
   "attachments": {},
   "cell_type": "markdown",
   "metadata": {},
   "source": [
    "## Testing the algorithms"
   ]
  },
  {
   "cell_type": "code",
   "execution_count": null,
   "metadata": {},
   "outputs": [],
   "source": [
    "def findEuclideanDistance(x1, y1, x2, y2):\n",
    "    return math.sqrt((x1 - x2)**2 + (y1 - y2)**2)\n",
    "\n",
    "def findManhattanDistance(x1, y1, x2, y2):\n",
    "    return abs(x1 - x2) + abs(y1 - y2)\n",
    "\n",
    "def generateInstances(n):\n",
    "    euclideanGraph = nx.complete_graph(n)\n",
    "    manhattanGraph = nx.complete_graph(n)\n",
    "    nodes = []\n",
    "    for i in range(n):\n",
    "        newX = np.random.randint(1, n)\n",
    "        newY = np.random.randint(1, n)\n",
    "        for j in range(len(nodes)):\n",
    "            if j == i:\n",
    "                euclideanGraph[i][j]['weight'] = 0\n",
    "                manhattanGraph[i][j]['weight'] = 0\n",
    "            else:\n",
    "                x = nodes[j][0]\n",
    "                y = nodes[j][1]\n",
    "                euclideanDistance = findEuclideanDistance(x, y, newX, newY)\n",
    "                manhattanDistance = findManhattanDistance(x, y, newX, newY)\n",
    "                if euclideanDistance == 0:\n",
    "                    euclideanDistance = 1\n",
    "                if manhattanDistance == 0:\n",
    "                    manhattanDistance = 1\n",
    "                euclideanGraph[i][j]['weight'] = euclideanDistance\n",
    "                manhattanGraph[i][j]['weight'] = manhattanDistance\n",
    "        nodes.append((newX, newY))\n",
    "    return euclideanGraph, manhattanGraph\n",
    "\n",
    "def drawGraph(A):\n",
    "    layout = nx.spring_layout(A)\n",
    "    nx.draw(A, layout)\n",
    "    nx.draw_networkx_edge_labels(A, pos=layout, edge_labels=nx.get_edge_attributes(A, 'weight'))\n",
    "    labels = {i: i for i in range(len(A))}\n",
    "    nx.draw_networkx_labels(A, pos=layout, labels=labels)\n",
    "    plt.show()\n",
    "\n",
    "def printSolution(A, weight, solution, algorithm):\n",
    "    print(algorithm)\n",
    "    print('Path: ', end='')\n",
    "    for i in range(len(solution)):\n",
    "        print(solution[i], end='')\n",
    "        if i != len(solution) - 1:\n",
    "            print(' -> ', end='')\n",
    "    print()\n",
    "    print('Weight: ', weight)\n",
    "\n",
    "def printSolutionsReport(A):\n",
    "    print('_' * 50)\n",
    "    print()\n",
    "    print('Number of nodes: ', A.number_of_nodes())\n",
    "    print('Number of edges: ', A.number_of_edges())\n",
    "    print()\n",
    "    weight, solution = branchAndBoundTSP(A)\n",
    "    printSolution(A, weight, solution, 'Branch and bound')\n",
    "    print()\n",
    "    weight, solution = twiceAroundTheTreeTSP(A)\n",
    "    printSolution(A, weight, solution, 'Twice Around The Tree')\n",
    "    print()\n",
    "    weight, solution = christofidesTSP(A)\n",
    "    printSolution(A, weight, solution, 'Christofides')\n",
    "    print()\n",
    "    print('_' * 50)"
   ]
  },
  {
   "cell_type": "markdown",
   "metadata": {},
   "source": [
    "### Test 1"
   ]
  },
  {
   "cell_type": "code",
   "execution_count": null,
   "metadata": {},
   "outputs": [],
   "source": [
    "A = [[0, 3, 1, 5, 8],\n",
    "    [3, 0, 6, 7, 9],\n",
    "    [1, 6, 0, 4, 2],\n",
    "    [5, 7, 4, 0, 3],\n",
    "    [8, 9, 2, 3, 0]]\n",
    "\n",
    "A = nx.from_numpy_matrix(np.matrix(A), create_using=nx.Graph)\n",
    "\n",
    "drawGraph(A)\n",
    "\n",
    "printSolutionsReport(A)"
   ]
  },
  {
   "cell_type": "markdown",
   "metadata": {},
   "source": [
    "### Test 2"
   ]
  },
  {
   "cell_type": "code",
   "execution_count": null,
   "metadata": {},
   "outputs": [],
   "source": [
    "G = [[0, 4, 8, 9, 12],\n",
    "    [4, 0, 6, 8, 9],\n",
    "    [8, 6, 0, 10, 11],\n",
    "    [9, 8, 10, 0, 7],   \n",
    "    [12, 9, 11, 7, 0]]\n",
    "\n",
    "G = nx.from_numpy_matrix(np.matrix(G), create_using=nx.Graph)\n",
    "\n",
    "drawGraph(G)\n",
    "\n",
    "printSolutionsReport(G)"
   ]
  },
  {
   "cell_type": "markdown",
   "metadata": {},
   "source": [
    "### Random Test"
   ]
  },
  {
   "cell_type": "code",
   "execution_count": null,
   "metadata": {},
   "outputs": [],
   "source": [
    "euclideanGraph, manhattanGraph = generateInstances(2**3)\n",
    "\n",
    "drawGraph(euclideanGraph)\n",
    "\n",
    "printSolutionsReport(euclideanGraph)"
   ]
  },
  {
   "cell_type": "code",
   "execution_count": null,
   "metadata": {},
   "outputs": [],
   "source": [
    "drawGraph(manhattanGraph)\n",
    "\n",
    "printSolutionsReport(manhattanGraph)"
   ]
  },
  {
   "attachments": {},
   "cell_type": "markdown",
   "metadata": {},
   "source": [
    "## Experiments"
   ]
  },
  {
   "cell_type": "code",
   "execution_count": null,
   "metadata": {},
   "outputs": [],
   "source": [
    "def timeout(func, graph, timeout_duration=1):\n",
    "    import signal\n",
    "    class TimeoutError(Exception):\n",
    "        pass\n",
    "    def handler(signum, frame):\n",
    "        raise TimeoutError()\n",
    "    signal.signal(signal.SIGALRM, handler)\n",
    "    signal.alarm(timeout_duration)\n",
    "    try:\n",
    "        result = func(graph)\n",
    "    except TimeoutError as exc:\n",
    "        result = None, None\n",
    "    finally:\n",
    "        signal.alarm(0)\n",
    "    return result\n",
    "\n",
    "def testAlgorithm(algorithm, A, timeoutDuration, printResults):\n",
    "    weight, solution = timeout(algorithm, A, timeout_duration=timeoutDuration)\n",
    "    if weight is None:\n",
    "        print('Timeout for ', algorithm.__name__, ' algorithm after ', timeoutDuration, ' seconds.')\n",
    "    else:\n",
    "        if printResults:\n",
    "            printSolution(A, weight, solution, algorithm.__name__)"
   ]
  },
  {
   "cell_type": "code",
   "execution_count": null,
   "metadata": {},
   "outputs": [],
   "source": [
    "import time\n",
    "def testBranchAndBoundTime():\n",
    "    meanEuclidean = 0\n",
    "    meanManhattan = 0\n",
    "    for i in range(10):\n",
    "        euclideanGraph, manhattanGraph = generateInstances(2**4)\n",
    "        \n",
    "        start = time.time()\n",
    "        testAlgorithm(branchAndBoundTSP, euclideanGraph, 30*60, False)\n",
    "        end = time.time()\n",
    "        meanEuclidean += end - start\n",
    "        \n",
    "        start = time.time()\n",
    "        testAlgorithm(branchAndBoundTSP, manhattanGraph, 30*60, False)\n",
    "        end = time.time()\n",
    "        meanManhattan += end - start\n",
    "    meanEuclidean /= 10\n",
    "    meanManhattan /= 10\n",
    "    print('Mean time for Branch and Bound on Euclidean graph: ', meanEuclidean)\n",
    "    print('Mean time for Branch and Bound on Manhattan graph: ', meanManhattan)\n",
    "    return meanEuclidean, meanManhattan\n"
   ]
  },
  {
   "cell_type": "code",
   "execution_count": null,
   "metadata": {},
   "outputs": [],
   "source": [
    "def testApproximativeTimes(algorithm):\n",
    "    meanEuclidean = [0 for i in range(7)]\n",
    "    meanManhattan = [0 for i in range(7)]\n",
    "    for i in range(4, 11):\n",
    "        for j in range(10):\n",
    "            euclideanGraph, manhattanGraph = generateInstances(2**i)\n",
    "            \n",
    "            start = time.time()\n",
    "            testAlgorithm(algorithm, euclideanGraph, 30*60, False)\n",
    "            end = time.time()\n",
    "            meanEuclidean[i - 4] += end - start\n",
    "            \n",
    "            start = time.time()\n",
    "            testAlgorithm(algorithm, manhattanGraph, 30*60, False)\n",
    "            end = time.time()\n",
    "            meanManhattan[i - 4] += end - start\n",
    "    for i in range(7):\n",
    "        meanEuclidean[i] /= 10\n",
    "        meanManhattan[i] /= 10\n",
    "    print(f'Mean time for {algorithm.__name__} on Euclidean graph: ', meanEuclidean)\n",
    "    print(f'Mean time for {algorithm.__name__} on Manhattan graph: ', meanManhattan)\n",
    "    return meanEuclidean, meanManhattan"
   ]
  },
  {
   "cell_type": "code",
   "execution_count": null,
   "metadata": {},
   "outputs": [],
   "source": [
    "def testApproximativeQuality(algorithm):\n",
    "    meanEuclideanQuality = 0\n",
    "    meanManhattanQuality = 0\n",
    "    for i in range(1000):\n",
    "        euclideanGraph, manhattanGraph = generateInstances(10)\n",
    "        \n",
    "        exactWeight, _ = branchAndBoundTSP(euclideanGraph)\n",
    "        euclideanWeight, _ = algorithm(euclideanGraph)\n",
    "        meanEuclideanQuality += euclideanWeight / exactWeight\n",
    "\n",
    "        exactWeight, _ = branchAndBoundTSP(manhattanGraph)\n",
    "        manhattanWeight, _ = algorithm(manhattanGraph)\n",
    "        meanManhattanQuality += manhattanWeight / exactWeight\n",
    "\n",
    "    meanEuclideanQuality /= 1000\n",
    "    meanManhattanQuality /= 1000\n",
    "    print(f'Mean quality for {algorithm.__name__} on Euclidean graph: ', meanEuclideanQuality)\n",
    "    print(f'Mean quality for {algorithm.__name__} on Manhattan graph: ', meanManhattanQuality)\n",
    "    return meanEuclideanQuality, meanManhattanQuality\n"
   ]
  },
  {
   "cell_type": "code",
   "execution_count": null,
   "metadata": {},
   "outputs": [],
   "source": [
    "import matplotlib.pyplot as plt\n",
    "def plotTimes(euclideanTimes, manhattanTimes, algorithm):\n",
    "    plt.plot([2**i for i in range(4, 11)], euclideanTimes, label=f'{algorithm.__name__} Euclidiano')\n",
    "    plt.plot([2**i for i in range(4, 11)], manhattanTimes, label=f'{algorithm.__name__} Manhattan')\n",
    "    plt.xlabel('Número de vértices')\n",
    "    plt.ylabel('Tempo (s)')\n",
    "    plt.title(f'Tempo de execução do algoritmo {algorithm.__name__}')\n",
    "    plt.legend()\n",
    "    plt.show()"
   ]
  },
  {
   "attachments": {},
   "cell_type": "markdown",
   "metadata": {},
   "source": [
    "### Testing the time performance of the algorithms"
   ]
  },
  {
   "cell_type": "code",
   "execution_count": null,
   "metadata": {},
   "outputs": [],
   "source": [
    "testBranchAndBoundTime()"
   ]
  },
  {
   "cell_type": "code",
   "execution_count": null,
   "metadata": {},
   "outputs": [],
   "source": [
    "euclideanTimes, manhattanTimes = testApproximativeTimes(twiceAroundTheTreeTSP)\n",
    "plotTimes(euclideanTimes, manhattanTimes, twiceAroundTheTreeTSP)"
   ]
  },
  {
   "cell_type": "code",
   "execution_count": null,
   "metadata": {},
   "outputs": [],
   "source": [
    "euclideanTimes, manhattanTimes = testApproximativeTimes(christofidesTSP)\n",
    "plotTimes(euclideanTimes, manhattanTimes, christofidesTSP)"
   ]
  },
  {
   "attachments": {},
   "cell_type": "markdown",
   "metadata": {},
   "source": [
    "### Testing how distant the approximations are from the optimal solution"
   ]
  },
  {
   "cell_type": "code",
   "execution_count": null,
   "metadata": {},
   "outputs": [],
   "source": [
    "testApproximativeQuality(twiceAroundTheTreeTSP)"
   ]
  },
  {
   "cell_type": "code",
   "execution_count": null,
   "metadata": {},
   "outputs": [],
   "source": [
    "testApproximativeQuality(christofidesTSP)"
   ]
  }
 ],
 "metadata": {
  "kernelspec": {
   "display_name": "Python 3.8.10 64-bit",
   "language": "python",
   "name": "python3"
  },
  "language_info": {
   "codemirror_mode": {
    "name": "ipython",
    "version": 3
   },
   "file_extension": ".py",
   "mimetype": "text/x-python",
   "name": "python",
   "nbconvert_exporter": "python",
   "pygments_lexer": "ipython3",
   "version": "3.8.10"
  },
  "orig_nbformat": 4,
  "vscode": {
   "interpreter": {
    "hash": "916dbcbb3f70747c44a77c7bcd40155683ae19c65e1c03b4aa3499c5328201f1"
   }
  }
 },
 "nbformat": 4,
 "nbformat_minor": 2
}
